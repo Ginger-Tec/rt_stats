{
 "cells": [
  {
   "cell_type": "code",
   "id": "initial_id",
   "metadata": {
    "collapsed": true,
    "ExecuteTime": {
     "end_time": "2024-09-03T12:22:29.696489Z",
     "start_time": "2024-09-03T12:22:29.373134Z"
    }
   },
   "source": [
    "import pandas as pd\n",
    "\n",
    "import rt_stats\n",
    "import rt_stats_llvm\n",
    "import rt_stats_c"
   ],
   "outputs": [],
   "execution_count": 2
  },
  {
   "metadata": {
    "ExecuteTime": {
     "end_time": "2024-09-03T12:22:31.125218Z",
     "start_time": "2024-09-03T12:22:31.108683Z"
    }
   },
   "cell_type": "code",
   "source": [
    "# CSV 파일 읽기 및 결측치 제거\n",
    "df_mean = pd.read_csv('df_mean.csv', index_col='nsYMD', parse_dates=True).dropna()"
   ],
   "id": "179a5ea52e2d2c64",
   "outputs": [],
   "execution_count": 3
  },
  {
   "metadata": {
    "ExecuteTime": {
     "end_time": "2024-09-03T12:22:31.851470Z",
     "start_time": "2024-09-03T12:22:31.846794Z"
    }
   },
   "cell_type": "code",
   "source": "df_mean.shape",
   "id": "c25adaf33a412180",
   "outputs": [
    {
     "data": {
      "text/plain": [
       "(4350, 10)"
      ]
     },
     "execution_count": 4,
     "metadata": {},
     "output_type": "execute_result"
    }
   ],
   "execution_count": 4
  },
  {
   "metadata": {
    "ExecuteTime": {
     "end_time": "2024-09-03T12:22:33.273753Z",
     "start_time": "2024-09-03T12:22:32.757027Z"
    }
   },
   "cell_type": "code",
   "source": [
    "# 각 시리즈에 대해 통계량 계산\n",
    "df_stats = pd.DataFrame({name: dict(rt_stats.metrics(values.to_numpy(), full=True)) for name, values in df_mean.items()})"
   ],
   "id": "b7a84b0e50247f73",
   "outputs": [],
   "execution_count": 5
  },
  {
   "metadata": {
    "ExecuteTime": {
     "end_time": "2024-09-03T12:22:43.944934Z",
     "start_time": "2024-09-03T12:22:43.934150Z"
    }
   },
   "cell_type": "code",
   "source": [
    "# 각 시리즈에 대해 통계량 계산\n",
    "df_stats2 = pd.DataFrame({name: dict(rt_stats_llvm.metrics(values.to_numpy(), full=True)) for name, values in df_mean.items()})"
   ],
   "id": "265136f49a927756",
   "outputs": [],
   "execution_count": 7
  },
  {
   "metadata": {
    "ExecuteTime": {
     "end_time": "2024-09-03T12:22:45.534212Z",
     "start_time": "2024-09-03T12:22:45.032709Z"
    }
   },
   "cell_type": "code",
   "source": [
    "# 각 시리즈에 대해 통계량 계산\n",
    "df_stats3 = pd.DataFrame({name: dict(rt_stats_c.metrics(values.to_numpy(), full=True)) for name, values in df_mean.items()})"
   ],
   "id": "93adab2d7f984f0b",
   "outputs": [],
   "execution_count": 8
  },
  {
   "metadata": {
    "ExecuteTime": {
     "end_time": "2024-09-03T12:22:51.810567Z",
     "start_time": "2024-09-03T12:22:46.286776Z"
    }
   },
   "cell_type": "code",
   "source": "%timeit rt_stats.metrics(df_mean['1'].to_numpy(), full=False)",
   "id": "a50f52eda57087cf",
   "outputs": [
    {
     "name": "stdout",
     "output_type": "stream",
     "text": [
      "679 μs ± 1.77 μs per loop (mean ± std. dev. of 7 runs, 1,000 loops each)\n"
     ]
    }
   ],
   "execution_count": 9
  },
  {
   "metadata": {
    "ExecuteTime": {
     "end_time": "2024-09-03T12:22:58.412409Z",
     "start_time": "2024-09-03T12:22:53.069123Z"
    }
   },
   "cell_type": "code",
   "source": "%timeit rt_stats_llvm.metrics(df_mean['1'].to_numpy(), full=False)",
   "id": "6100b9a11636f57b",
   "outputs": [
    {
     "name": "stdout",
     "output_type": "stream",
     "text": [
      "65.5 μs ± 228 ns per loop (mean ± std. dev. of 7 runs, 10,000 loops each)\n"
     ]
    }
   ],
   "execution_count": 10
  },
  {
   "metadata": {
    "ExecuteTime": {
     "end_time": "2024-09-03T12:23:10.010322Z",
     "start_time": "2024-09-03T12:23:00.297361Z"
    }
   },
   "cell_type": "code",
   "source": "%timeit rt_stats_c.metrics(df_mean['1'].to_numpy(), full=False)",
   "id": "47382b8bb8efff23",
   "outputs": [
    {
     "name": "stdout",
     "output_type": "stream",
     "text": [
      "120 μs ± 203 ns per loop (mean ± std. dev. of 7 runs, 10,000 loops each)\n"
     ]
    }
   ],
   "execution_count": 11
  },
  {
   "metadata": {
    "ExecuteTime": {
     "end_time": "2024-09-03T12:23:14.918510Z",
     "start_time": "2024-09-03T12:23:10.849373Z"
    }
   },
   "cell_type": "code",
   "source": "%timeit rt_stats.metrics(df_mean['1'].to_numpy(), full=True)",
   "id": "d5a05acda3a97c75",
   "outputs": [
    {
     "name": "stdout",
     "output_type": "stream",
     "text": [
      "50.1 ms ± 197 μs per loop (mean ± std. dev. of 7 runs, 10 loops each)\n"
     ]
    }
   ],
   "execution_count": 12
  },
  {
   "metadata": {
    "ExecuteTime": {
     "end_time": "2024-09-03T12:23:17.555180Z",
     "start_time": "2024-09-03T12:23:14.985313Z"
    }
   },
   "cell_type": "code",
   "source": "%timeit rt_stats_llvm.metrics(df_mean['1'].to_numpy(), full=True)",
   "id": "cf9e400fc116b2d6",
   "outputs": [
    {
     "name": "stdout",
     "output_type": "stream",
     "text": [
      "317 μs ± 13.3 μs per loop (mean ± std. dev. of 7 runs, 1,000 loops each)\n"
     ]
    }
   ],
   "execution_count": 13
  },
  {
   "metadata": {
    "ExecuteTime": {
     "end_time": "2024-09-03T12:23:21.621233Z",
     "start_time": "2024-09-03T12:23:17.624505Z"
    }
   },
   "cell_type": "code",
   "source": "%timeit rt_stats_c.metrics(df_mean['1'].to_numpy(), full=True)",
   "id": "4673a70d0e1f62db",
   "outputs": [
    {
     "name": "stdout",
     "output_type": "stream",
     "text": [
      "49.2 ms ± 139 μs per loop (mean ± std. dev. of 7 runs, 10 loops each)\n"
     ]
    }
   ],
   "execution_count": 14
  },
  {
   "metadata": {},
   "cell_type": "code",
   "outputs": [],
   "execution_count": null,
   "source": "",
   "id": "2385b3426a13a42f"
  }
 ],
 "metadata": {
  "kernelspec": {
   "display_name": "Python 3",
   "language": "python",
   "name": "python3"
  },
  "language_info": {
   "codemirror_mode": {
    "name": "ipython",
    "version": 2
   },
   "file_extension": ".py",
   "mimetype": "text/x-python",
   "name": "python",
   "nbconvert_exporter": "python",
   "pygments_lexer": "ipython2",
   "version": "2.7.6"
  }
 },
 "nbformat": 4,
 "nbformat_minor": 5
}
